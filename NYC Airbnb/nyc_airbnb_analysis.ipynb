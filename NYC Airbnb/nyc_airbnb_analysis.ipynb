{
 "cells": [
  {
   "cell_type": "markdown",
   "metadata": {},
   "source": [
    "# NYC Airbnb Analysis\n",
    "\n",
    "## Project Overview\n",
    "\n",
    "This project analyzes New York City Airbnb listings to uncover trends, factors influencing pricing, and potential areas for investment. The analysis includes data cleaning, exploratory data analysis (EDA), geospatial analysis, clustering, predictive modeling, and sentiment analysis of reviews.\n",
    "\n",
    "## Dataset\n",
    "\n",
    "The dataset used in this project is the New York City Airbnb Open Data, available on [Kaggle](https://www.kaggle.com/datasets/dgomonov/new-york-city-airbnb-open-data).\n",
    "\n",
    "## Setup and Installation\n",
    "\n",
    "To run this notebook, you need to have Python installed along with the necessary packages. You can install the required packages using the following command:\n",
    "\n",
    "```bash\n",
    "pip install pandas matplotlib seaborn folium scikit-learn textblob\n",
    "```\n"
   ]
  },
  {
   "cell_type": "code",
   "execution_count": 1,
   "metadata": {},
   "outputs": [],
   "source": [
    "# Import necessary libraries\n",
    "import pandas as pd\n",
    "import numpy as np\n",
    "import matplotlib.pyplot as plt\n",
    "import seaborn as sns\n",
    "import folium\n",
    "from sklearn.cluster import KMeans\n",
    "from sklearn.model_selection import train_test_split\n",
    "from sklearn.ensemble import RandomForestRegressor\n",
    "from sklearn.metrics import mean_absolute_error\n",
    "from textblob import TextBlob\n",
    "\n",
    "# Load the dataset\n",
    "df = pd.read_csv('AB_NYC_2019.csv')\n",
    "\n",
    "# Display the first few rows of the dataframe\n",
    "df.head()"
   ]
  },
  {
   "cell_type": "markdown",
   "metadata": {},
   "source": [
    "## Data Cleaning and Preparation\n",
    "\n",
    "In this section, we will handle missing values and convert data types where necessary. We will also perform feature engineering to extract additional insights."
   ]
  },
  {
   "cell_type": "code",
   "execution_count": 2,
   "metadata": {},
   "outputs": [],
   "source": [
    "# Handle missing values\n",
    "df = df.dropna(subset=['name', 'host_name', 'last_review'])\n",
    "df['reviews_per_month'] = df['reviews_per_month'].fillna(0)\n",
    "\n",
    "# Convert 'last_review' to datetime\n",
    "df['last_review'] = pd.to_datetime(df['last_review'])\n",
    "\n",
    "# Feature engineering: extracting host activity level\n",
    "df['host_activity_level'] = df['number_of_reviews'] / df['host_listings_count']\n",
    "\n",
    "# Display the cleaned dataframe\n",
    "df.head()"
   ]
  },
  {
   "cell_type": "markdown",
   "metadata": {},
   "source": [
    "## Exploratory Data Analysis (EDA)\n",
    "\n",
    "Here, we explore the distribution of listings across different neighborhoods and room types. We also identify pricing trends and analyze correlations between various factors and pricing."
   ]
  },
  {
   "cell_type": "code",
   "execution_count": 3,
   "metadata": {},
   "outputs": [],
   "source": [
    "# Distribution of listings across neighborhoods\n",
    "plt.figure(figsize=(12, 6))\n",
    "sns.countplot(y='neighbourhood_group', data=df, order=df['neighbourhood_group'].value_counts().index)\n",
    "plt.title('Distribution of Listings across Neighborhood Groups')\n",
    "plt.show()\n",
    "\n",
    "# Pricing trends across neighborhoods\n",
    "plt.figure(figsize=(12, 6))\n",
    "sns.boxplot(x='neighbourhood_group', y='price', data=df)\n",
    "plt.ylim(0, 500)  # Limit y-axis to focus on majority\n",
    "plt.title('Pricing Trends across Neighborhood Groups')\n",
    "plt.show()\n",
    "\n",
    "# Correlation analysis\n",
    "correlation_matrix = df[['price', 'minimum_nights', 'number_of_reviews', 'reviews_per_month', 'availability_365']].corr()\n",
    "sns.heatmap(correlation_matrix, annot=True, cmap='coolwarm')\n",
    "plt.title('Correlation Matrix')\n",
    "plt.show()"
   ]
  },
  {
   "cell_type": "markdown",
   "metadata": {},
   "source": [
    "## Geospatial Analysis\n",
    "\n",
    "In this section, we create a geographical map to visualize the distribution of Airbnb listings across New York City."
   ]
  },
  {
   "cell_type": "code",
   "execution_count": 4,
   "metadata": {},
   "outputs": [],
   "source": [
    "# Create a map centered around New York City\n",
    "nyc_map = folium.Map(location=[40.7128, -74.0060], zoom_start=10)\n",
    "\n",
    "# Add listings to the map\n",
    "for _, row in df.iterrows():\n",
    "    folium.CircleMarker(location=[row['latitude'], row['longitude']],\n",
    "                        radius=3,\n",
    "                        color='blue',\n",
    "                        fill=True,\n",
    "                        fill_color='blue',\n",
    "                        fill_opacity=0.6).add_to(nyc_map)\n",
    "\n",
    "# Save the map to an HTML file\n",
    "nyc_map.save('nyc_airbnb_listings_map.html')\n",
    "nyc_map"
   ]
  },
  {
   "cell_type": "markdown",
   "metadata": {},
   "source": [
    "## Clustering Analysis\n",
    "\n",
    "Here, we perform clustering to segment listings into distinct groups based on their geographical location and price."
   ]
  },
  {
   "cell_type": "code",
   "execution_count": 5,
   "metadata": {},
   "outputs": [],
   "source": [
    "# Prepare data for clustering\n",
    "X = df[['latitude', 'longitude', 'price']]\n",
    "\n",
    "# Perform KMeans clustering\n",
    "kmeans = KMeans(n_clusters=5, random_state=0).fit(X)\n",
    "df['cluster'] = kmeans.labels_\n",
    "\n",
    "# Plot clusters on a map\n",
    "plt.figure(figsize=(12, 6))\n",
    "sns.scatterplot(x='longitude', y='latitude', hue='cluster', data=df, palette='tab10')\n",
    "plt.title('Clustered Listings')\n",
    "plt.show()"
   ]
  },
  {
   "cell_type": "markdown",
   "metadata": {},
   "source": [
    "## Predictive Modeling\n",
    "\n",
    "In this section, we use a Random Forest Regressor to predict the price of Airbnb listings based on various features."
   ]
  },
  {
   "cell_type": "code",
   "execution_count": 6,
   "metadata": {},
   "outputs": [],
   "source": [
    "# Prepare data for modeling\n",
    "features = ['latitude', 'longitude', 'minimum_nights', 'number_of_reviews', 'reviews_per_month', 'availability_365']\n",
    "X = df[features]\n",
    "y = df['price']\n",
    "\n",
    "# Split data into training and testing sets\n",
    "X_train, X_test, y_train, y_test = train_test_split(X, y, test_size=0.2, random_state=42)\n",
    "\n",
    "# Create and train the model\n",
    "model = RandomForestRegressor(n_estimators=100, random_state=42)\n",
    "model.fit(X_train, y_train)\n",
    "\n",
    "# Make predictions\n",
    "y_pred = model.predict(X_test)\n",
    "\n",
    "# Evaluate the model\n",
    "mae = mean_absolute_error(y_test, y_pred)\n",
    "print(f'Mean Absolute Error: {mae}')"
   ]
  },
  {
   "cell_type": "markdown",
   "metadata": {},
   "source": [
    "## Sentiment Analysis on Reviews\n",
    "\n",
    "Here, we perform sentiment analysis on the comments to understand guest satisfaction and its correlation with review scores."
   ]
  },
  {
   "cell_type": "code",
   "execution_count": 7,
   "metadata": {},
   "outputs": [],
   "source": [
    "# Perform sentiment analysis on reviews\n",
    "df['review_sentiment'] = df['comments'].apply(lambda x: TextBlob(str(x)).sentiment.polarity)\n",
    "\n",
    "# Correlation between sentiment and review scores\n",
    "plt.figure(figsize=(12, 6))\n",
    "sns.scatterplot(x='review_scores_rating', y='review_sentiment', data=df)\n",
    "plt.title('Sentiment Analysis of Reviews')\n",
    "plt.show()"
   ]
  },
  {
   "cell_type": "markdown",
   "metadata": {},
   "source": [
    "## Conclusion and Insights\n",
    "\n",
    "### Key Findings\n",
    "\n",
    "- **Neighborhood Insights**: High-demand areas like Manhattan and Brooklyn command higher prices, whereas Staten Island offers more affordable options.\n",
    "- **Pricing Factors**: Factors such as the number of reviews, availability, and minimum stay requirements influence listing prices.\n",
    "- **Guest Sentiment**: Positive guest sentiment correlates with higher review scores, indicating the importance of maintaining good guest experiences.\n",
    "\n",
    "### Recommendations\n",
    "\n",
    "- **Hosts**: Focus on maintaining positive guest experiences and consider listing in high-demand areas for better returns.\n",
    "- **Guests**: Explore listings in diverse neighborhoods to find options that suit different budgets and preferences."
   ]
  }
 ],
 "metadata": {
  "kernelspec": {
   "display_name": "Python 3",
   "language": "python",
   "name": "python3"
  },
  "language_info": {
   "codemirror_mode": {
    "name": "ipython",
    "version": 3
   },
   "file_extension": ".py",
   "mimetype": "text/x-python",
   "name": "python",
   "nbconvert_exporter": "python",
   "pygments_lexer": "ipython3",
   "version": "3.8.5"
  }
 },
 "nbformat": 4,
 "nbformat_minor": 4
}
